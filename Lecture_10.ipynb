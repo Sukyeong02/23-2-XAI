{
  "cells": [
    {
      "cell_type": "markdown",
      "metadata": {
        "id": "view-in-github",
        "colab_type": "text"
      },
      "source": [
        "<a href=\"https://colab.research.google.com/github/Sukyeong02/23-2-XAI/blob/main/Lecture_10.ipynb\" target=\"_parent\"><img src=\"https://colab.research.google.com/assets/colab-badge.svg\" alt=\"Open In Colab\"/></a>"
      ]
    },
    {
      "cell_type": "code",
      "execution_count": null,
      "id": "78c6ebba-8bd5-4c3d-8c9d-1eaab385caf7",
      "metadata": {
        "id": "78c6ebba-8bd5-4c3d-8c9d-1eaab385caf7",
        "outputId": "7d8fb770-4c2c-49f7-922e-cb1ff754b465"
      },
      "outputs": [
        {
          "name": "stdout",
          "output_type": "stream",
          "text": [
            "fish_weight = [242.0, 290.0, 340.0, 363.0, 430.0, 450.0, 500.0, 390.0, 450.0, 500.0, 475.0, 500.0, 500.0, 340.0, 600.0, 600.0, 700.0, 700.0, 610.0, 650.0, 575.0, 685.0, 620.0, 680.0, 700.0, 725.0, 720.0, 714.0, 850.0, 1000.0, 920.0, 955.0, 925.0, 975.0, 950.0, 6.7, 7.5, 7.0, 9.7, 9.8, 8.7, 10.0, 9.9, 9.8, 12.2, 13.4, 12.2, 19.7, 19.9]\n",
            "fish_length = [25.4, 26.3, 26.5, 29.0, 29.0, 29.7, 29.7, 30.0, 30.0, 30.7, 31.0, 31.0, 31.5, 32.0, 32.0, 32.0, 33.0, 33.0, 33.5, 33.5, 34.0, 34.0, 34.5, 35.0, 35.0, 35.0, 35.0, 36.0, 36.0, 37.0, 38.5, 38.5, 39.5, 41.0, 41.0, 9.8, 10.5, 10.6, 11.0, 11.2, 11.3, 11.8, 11.8, 12.0, 12.2, 12.4, 13.0, 14.3, 15.0]\n"
          ]
        }
      ],
      "source": [
        "import csv\n",
        "\n",
        "f = open('Fish.csv', 'r')\n",
        "data = csv.reader(f)\n",
        "\n",
        "header = next(data)\n",
        "\n",
        "bream_weight = []\n",
        "bream_length = []\n",
        "\n",
        "smelt_weight = []\n",
        "smelt_length = []\n",
        "\n",
        "for row in data:\n",
        "    if row[0] == 'Bream':\n",
        "        bream_weight.append(float(row[1]))\n",
        "        bream_length.append(float(row[3]))\n",
        "    elif row [0] == 'Smelt':\n",
        "        smelt_weight.append(float(row[1]))\n",
        "        smelt_length.append(float(row[3]))\n",
        "\n",
        "f.close()\n",
        "\n",
        "fish_weight = bream_weight + smelt_weight\n",
        "fish_length = bream_length + smelt_length\n",
        "\n",
        "print('fish_weight =', fish_weight)\n",
        "print('fish_length =', fish_length)"
      ]
    },
    {
      "cell_type": "code",
      "execution_count": null,
      "id": "9e6610d8-ede8-4191-a08a-1aa2f009e572",
      "metadata": {
        "id": "9e6610d8-ede8-4191-a08a-1aa2f009e572",
        "outputId": "cafb9d5c-ee26-4cec-881a-cffe94b9153c"
      },
      "outputs": [
        {
          "name": "stdout",
          "output_type": "stream",
          "text": [
            "[[ 25.4 242. ]\n",
            " [ 26.3 290. ]\n",
            " [ 26.5 340. ]\n",
            " [ 29.  363. ]\n",
            " [ 29.  430. ]]\n"
          ]
        }
      ],
      "source": [
        "import numpy as np\n",
        "\n",
        "x = np.column_stack((fish_length, fish_weight))\n",
        "print(x[:5])"
      ]
    },
    {
      "cell_type": "code",
      "execution_count": null,
      "id": "d13b8a0f-9572-4bf9-98ac-0b0bd6f16afe",
      "metadata": {
        "id": "d13b8a0f-9572-4bf9-98ac-0b0bd6f16afe",
        "outputId": "31f97d81-5076-42e2-ec84-0a7b57511ee5"
      },
      "outputs": [
        {
          "name": "stdout",
          "output_type": "stream",
          "text": [
            "[1. 1. 1. 1. 1. 1. 1. 1. 1. 1. 1. 1. 1. 1. 1. 1. 1. 1. 1. 1. 1. 1. 1. 1.\n",
            " 1. 1. 1. 1. 1. 1. 1. 1. 1. 1. 1. 0. 0. 0. 0. 0. 0. 0. 0. 0. 0. 0. 0. 0.\n",
            " 0.]\n"
          ]
        }
      ],
      "source": [
        "y = np.concatenate((np.ones(35), np.zeros(14)))\n",
        "print(y)"
      ]
    },
    {
      "cell_type": "code",
      "execution_count": null,
      "id": "ed69aa04-d4db-45a3-912c-0a9207071d69",
      "metadata": {
        "id": "ed69aa04-d4db-45a3-912c-0a9207071d69"
      },
      "outputs": [],
      "source": [
        "from sklearn.model_selection import train_test_split\n",
        "\n",
        "x_train, x_test, y_train, y_test = train_test_split(x, y, random_state=42)"
      ]
    },
    {
      "cell_type": "code",
      "execution_count": null,
      "id": "d46dc995-2af5-4b49-8cd3-29a637382e05",
      "metadata": {
        "id": "d46dc995-2af5-4b49-8cd3-29a637382e05",
        "outputId": "396ab108-ba60-44d1-b34a-e479a00e0ada"
      },
      "outputs": [
        {
          "name": "stdout",
          "output_type": "stream",
          "text": [
            "(36, 2) (13, 2)\n",
            "(36,) (13,)\n"
          ]
        }
      ],
      "source": [
        "print(x_train.shape, x_test.shape)\n",
        "print(y_train.shape, y_test.shape)"
      ]
    },
    {
      "cell_type": "code",
      "execution_count": null,
      "id": "611e4855-7252-483b-ae85-c17fc42a50da",
      "metadata": {
        "id": "611e4855-7252-483b-ae85-c17fc42a50da",
        "outputId": "e7c236c8-6f51-44c8-edb8-97a6c18b00a7"
      },
      "outputs": [
        {
          "name": "stdout",
          "output_type": "stream",
          "text": [
            "[1. 0. 0. 0. 1. 1. 1. 1. 1. 1. 1. 1. 1.]\n"
          ]
        }
      ],
      "source": [
        "print(y_test)"
      ]
    },
    {
      "cell_type": "markdown",
      "id": "04617eea-89a0-40c2-ac51-4f669ee19313",
      "metadata": {
        "id": "04617eea-89a0-40c2-ac51-4f669ee19313"
      },
      "source": [
        "위의 결과에서 보면 샘플링 편향 발생"
      ]
    },
    {
      "cell_type": "code",
      "execution_count": null,
      "id": "98fc4fba-0e80-4380-8cb0-fea7b5bdf4e6",
      "metadata": {
        "id": "98fc4fba-0e80-4380-8cb0-fea7b5bdf4e6",
        "outputId": "2de6e07e-5ad2-4c0e-b2d3-e91bdeccdc4c"
      },
      "outputs": [
        {
          "name": "stdout",
          "output_type": "stream",
          "text": [
            "[0. 0. 1. 0. 1. 0. 1. 1. 1. 1. 1. 1. 1.]\n"
          ]
        }
      ],
      "source": [
        "x_train, x_test, y_train, y_test = train_test_split(x, y, stratify=y, random_state = 42)\n",
        "\n",
        "print(y_test)"
      ]
    },
    {
      "cell_type": "code",
      "execution_count": null,
      "id": "d66e29b2-bc09-4be3-9637-51db4d472507",
      "metadata": {
        "id": "d66e29b2-bc09-4be3-9637-51db4d472507",
        "outputId": "546e1428-c9e5-4497-a4b8-9863a3236765"
      },
      "outputs": [
        {
          "data": {
            "text/plain": [
              "1.0"
            ]
          },
          "execution_count": 10,
          "metadata": {},
          "output_type": "execute_result"
        }
      ],
      "source": [
        "from sklearn.neighbors import KNeighborsClassifier\n",
        "\n",
        "kn = KNeighborsClassifier()\n",
        "kn.fit(x_train, y_train)\n",
        "kn.score(x_test, y_test)"
      ]
    },
    {
      "cell_type": "code",
      "execution_count": null,
      "id": "e0015f40-0c49-42a7-bbe0-82e6aa60d519",
      "metadata": {
        "id": "e0015f40-0c49-42a7-bbe0-82e6aa60d519",
        "outputId": "e9871e77-3800-48c4-d99b-7448fb1084c7"
      },
      "outputs": [
        {
          "data": {
            "image/png": "[encoded data removed]",
            "text/plain": [
              "<Figure size 432x288 with 1 Axes>"
            ]
          },
          "metadata": {
            "needs_background": "light"
          },
          "output_type": "display_data"
        }
      ],
      "source": [
        "import matplotlib.pyplot as plt\n",
        "\n",
        "plt.figure()\n",
        "plt.scatter(x_train[:,0], x_train[:,1])\n",
        "plt.scatter(24,150, marker='^')\n",
        "plt.xlabel('Length[cm]')\n",
        "plt.ylabel('Weight[g]')\n",
        "plt.grid(True)\n",
        "plt.show()"
      ]
    },
    {
      "cell_type": "code",
      "execution_count": null,
      "id": "ff3108a7-9f38-47bd-bf22-3d8dfbe80809",
      "metadata": {
        "id": "ff3108a7-9f38-47bd-bf22-3d8dfbe80809",
        "outputId": "3506e30c-0296-4125-ce5a-282b6d1b6ee6"
      },
      "outputs": [
        {
          "data": {
            "text/plain": [
              "array([0.])"
            ]
          },
          "execution_count": 16,
          "metadata": {},
          "output_type": "execute_result"
        }
      ],
      "source": [
        "kn.predict([[25,150]])"
      ]
    },
    {
      "cell_type": "code",
      "execution_count": null,
      "id": "dca4da29-6d37-48c5-a720-b930bd7edbd1",
      "metadata": {
        "id": "dca4da29-6d37-48c5-a720-b930bd7edbd1"
      },
      "outputs": [],
      "source": [
        "distances, indexes = kn.kneighbors([[25,150]])"
      ]
    },
    {
      "cell_type": "code",
      "execution_count": null,
      "id": "b66453b1-a27d-45b6-b7ce-a69e536ea251",
      "metadata": {
        "id": "b66453b1-a27d-45b6-b7ce-a69e536ea251",
        "outputId": "ea928c31-8f11-42ea-e8ac-0abf7880fd41"
      },
      "outputs": [
        {
          "data": {
            "image/png": "[encoded data removed]",
            "text/plain": [
              "<Figure size 432x288 with 1 Axes>"
            ]
          },
          "metadata": {
            "needs_background": "light"
          },
          "output_type": "display_data"
        }
      ],
      "source": [
        "plt.figure()\n",
        "plt.scatter(x_train[:,0], x_train[:,1])\n",
        "plt.scatter(24,150, marker='^')\n",
        "plt.scatter(x_train[indexes,0], x_train[indexes,1], marker='D')\n",
        "plt.xlabel('Length[cm]')\n",
        "plt.ylabel('Weight[g]')\n",
        "plt.grid(True)\n",
        "plt.show()"
      ]
    },
    {
      "cell_type": "code",
      "execution_count": null,
      "id": "0e891feb-deb8-47a7-9b41-720b895d1879",
      "metadata": {
        "id": "0e891feb-deb8-47a7-9b41-720b895d1879",
        "outputId": "52534ce2-767b-4bca-cfa9-97517c89e4c9"
      },
      "outputs": [
        {
          "name": "stdout",
          "output_type": "stream",
          "text": [
            "[[[ 25.4 242. ]\n",
            "  [ 15.   19.9]\n",
            "  [ 14.3  19.7]\n",
            "  [ 13.   12.2]\n",
            "  [ 12.2  12.2]]]\n"
          ]
        }
      ],
      "source": [
        "print(x_train[indexes,:])"
      ]
    },
    {
      "cell_type": "code",
      "execution_count": null,
      "id": "a38ddd02-5a17-4a8f-b6f6-b0f5fb464c62",
      "metadata": {
        "id": "a38ddd02-5a17-4a8f-b6f6-b0f5fb464c62",
        "outputId": "887d9073-9043-4d08-8f09-3e7201f051e4"
      },
      "outputs": [
        {
          "name": "stdout",
          "output_type": "stream",
          "text": [
            "[[1. 0. 0. 0. 0.]]\n"
          ]
        }
      ],
      "source": [
        "print(y_train[indexes])"
      ]
    },
    {
      "cell_type": "code",
      "execution_count": null,
      "id": "fe7a59cb-81f8-4374-894a-11d1edc092b7",
      "metadata": {
        "id": "fe7a59cb-81f8-4374-894a-11d1edc092b7",
        "outputId": "54698806-4c12-4483-deff-1faaec3ceb3f"
      },
      "outputs": [
        {
          "name": "stdout",
          "output_type": "stream",
          "text": [
            "[[ 92.00086956 130.48375378 130.73859415 138.32150953 138.39320793]]\n"
          ]
        }
      ],
      "source": [
        "print(distances)"
      ]
    },
    {
      "cell_type": "code",
      "execution_count": null,
      "id": "8cc0da60-e3c9-421e-9de5-739483a5633f",
      "metadata": {
        "id": "8cc0da60-e3c9-421e-9de5-739483a5633f",
        "outputId": "e45432c1-ea26-43df-e312-821b76e7fee6"
      },
      "outputs": [
        {
          "name": "stdout",
          "output_type": "stream",
          "text": [
            "[ 27.29722222 454.09722222] [  9.98244253 323.29893931]\n"
          ]
        }
      ],
      "source": [
        "mean = np.mean(x_train, axis=0)\n",
        "std = np.std(x_train, axis=0)\n",
        "print(mean,std)"
      ]
    },
    {
      "cell_type": "code",
      "execution_count": null,
      "id": "03c1e4eb-e32b-4829-b8be-cb1721fffbd1",
      "metadata": {
        "id": "03c1e4eb-e32b-4829-b8be-cb1721fffbd1"
      },
      "outputs": [],
      "source": [
        "x_train_scaled = (x_train-mean) / std"
      ]
    },
    {
      "cell_type": "markdown",
      "id": "dd760f7a-bd2b-4a4b-9222-a1fdac114c5d",
      "metadata": {
        "id": "dd760f7a-bd2b-4a4b-9222-a1fdac114c5d"
      },
      "source": [
        "### 전처리 데이터로 모델 학습시키기"
      ]
    },
    {
      "cell_type": "code",
      "execution_count": null,
      "id": "c387a77e-d766-44b0-b9cd-15f41b03690e",
      "metadata": {
        "id": "c387a77e-d766-44b0-b9cd-15f41b03690e",
        "outputId": "b24c6d01-4cf7-4b49-d325-ab3fc4ba61f4"
      },
      "outputs": [
        {
          "data": {
            "image/png": "[encoded data removed]",
            "text/plain": [
              "<Figure size 432x288 with 1 Axes>"
            ]
          },
          "metadata": {
            "needs_background": "light"
          },
          "output_type": "display_data"
        }
      ],
      "source": [
        "plt.figure()\n",
        "plt.scatter(x_train_scaled[:,0], x_train_scaled[:,1], marker='D')\n",
        "plt.scatter(25,150, marker='^')\n",
        "plt.xlabel('Length[cm]')\n",
        "plt.ylabel('Weight[g]')\n",
        "plt.grid(True)\n",
        "plt.show()"
      ]
    },
    {
      "cell_type": "code",
      "execution_count": null,
      "id": "88ac2930-f0f1-4543-8f2d-a4949812d894",
      "metadata": {
        "id": "88ac2930-f0f1-4543-8f2d-a4949812d894",
        "outputId": "ba2547f6-6213-4324-aa77-6fb17855d9d0"
      },
      "outputs": [
        {
          "data": {
            "image/png": "[encoded data removed]",
            "text/plain": [
              "<Figure size 432x288 with 1 Axes>"
            ]
          },
          "metadata": {
            "needs_background": "light"
          },
          "output_type": "display_data"
        }
      ],
      "source": [
        "new = ([25, 150] - mean) / std\n",
        "\n",
        "plt.figure()\n",
        "plt.scatter(x_train_scaled[:,0], x_train_scaled[:,1], marker='D')\n",
        "plt.scatter(new[0], new[1], marker='^')\n",
        "plt.xlabel('Length[cm]')\n",
        "plt.ylabel('Weight[g]')\n",
        "plt.grid(True)\n",
        "plt.show()"
      ]
    },
    {
      "cell_type": "code",
      "execution_count": null,
      "id": "034acb84-7a1d-4fff-b79a-b2e7937458cf",
      "metadata": {
        "id": "034acb84-7a1d-4fff-b79a-b2e7937458cf",
        "outputId": "5d314539-c87c-4cb1-8613-50a2e33e797e"
      },
      "outputs": [
        {
          "data": {
            "text/plain": [
              "1.0"
            ]
          },
          "execution_count": 29,
          "metadata": {},
          "output_type": "execute_result"
        }
      ],
      "source": [
        "kn.fit(x_train_scaled, y_train)\n",
        "x_test_scaled = (x_test - mean) / std\n",
        "kn.score(x_test_scaled, y_test)"
      ]
    },
    {
      "cell_type": "code",
      "execution_count": null,
      "id": "e6495f8d-68f4-4f02-9b8f-2f39b59018e7",
      "metadata": {
        "id": "e6495f8d-68f4-4f02-9b8f-2f39b59018e7",
        "outputId": "67e0ebfa-afd8-4304-e023-1476fa489001"
      },
      "outputs": [
        {
          "name": "stdout",
          "output_type": "stream",
          "text": [
            "[1.]\n"
          ]
        }
      ],
      "source": [
        "print(kn.predict([new]))"
      ]
    },
    {
      "cell_type": "code",
      "execution_count": null,
      "id": "4e565483-98e6-44d8-9e83-473776368803",
      "metadata": {
        "id": "4e565483-98e6-44d8-9e83-473776368803",
        "outputId": "190c6800-0277-4b1b-b935-6f8eccda40c5"
      },
      "outputs": [
        {
          "data": {
            "image/png": "[encoded data removed]",
            "text/plain": [
              "<Figure size 432x288 with 1 Axes>"
            ]
          },
          "metadata": {
            "needs_background": "light"
          },
          "output_type": "display_data"
        }
      ],
      "source": [
        "distances, indexes = kn.kneighbors([new])\n",
        "\n",
        "plt.figure()\n",
        "plt.scatter(x_train_scaled[:,0], x_train_scaled[:,1])\n",
        "plt.scatter(new[0], new[1], marker='^')\n",
        "plt.scatter(x_train_scaled[indexes,0], x_train_scaled[indexes,1], marker='D')\n",
        "plt.xlabel('Length[cm]')\n",
        "plt.ylabel('Weight[g]')\n",
        "plt.grid(True)\n",
        "plt.show()"
      ]
    },
    {
      "cell_type": "code",
      "execution_count": null,
      "id": "9cb2dbb3-4639-42d8-b624-253ff56ed22c",
      "metadata": {
        "id": "9cb2dbb3-4639-42d8-b624-253ff56ed22c"
      },
      "outputs": [],
      "source": []
    }
  ],
  "metadata": {
    "kernelspec": {
      "display_name": "Python 3",
      "language": "python",
      "name": "python3"
    },
    "language_info": {
      "codemirror_mode": {
        "name": "ipython",
        "version": 3
      },
      "file_extension": ".py",
      "mimetype": "text/x-python",
      "name": "python",
      "nbconvert_exporter": "python",
      "pygments_lexer": "ipython3",
      "version": "3.8.8"
    },
    "colab": {
      "provenance": [],
      "include_colab_link": true
    }
  },
  "nbformat": 4,
  "nbformat_minor": 5
}