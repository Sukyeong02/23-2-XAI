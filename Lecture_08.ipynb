{
  "cells": [
    {
      "cell_type": "code",
      "execution_count": null,
      "id": "be10493d-7c09-4ed4-b53f-1f747e929df3",
      "metadata": {
        "id": "be10493d-7c09-4ed4-b53f-1f747e929df3",
        "outputId": "b1bfa62b-bcf5-4499-f2ac-39060dec493e"
      },
      "outputs": [
        {
          "name": "stdout",
          "output_type": "stream",
          "text": [
            "['癤풱pecies', 'Weight', 'Length1', 'Length2', 'Length3', 'Height', 'Width']\n",
            "['Bream', 242.0, '23.2', 25.4, '30', '11.52', '4.02']\n"
          ]
        }
      ],
      "source": [
        "import csv\n",
        "\n",
        "f = open('fish.csv','r')\n",
        "data = csv.reader(f)\n",
        "\n",
        "header = next(data)\n",
        "print(header)\n",
        "\n",
        "for row in data:\n",
        "    if row[0] == \"Bream\":\n",
        "        row[1] = float(row[1])\n",
        "        row[3] = float(row[3])\n",
        "        print(row)\n",
        "        break #1개만 출력\n",
        "\n",
        "f.close()"
      ]
    },
    {
      "cell_type": "code",
      "execution_count": null,
      "id": "ea8ac0d5-b23f-4ab1-86ec-4740ed6ea0ec",
      "metadata": {
        "id": "ea8ac0d5-b23f-4ab1-86ec-4740ed6ea0ec"
      },
      "outputs": [],
      "source": [
        "import csv\n",
        "\n",
        "f = open('fish.csv','r')\n",
        "data = csv.reader(f)\n",
        "\n",
        "header = next(data)\n",
        "# print(header)\n",
        "\n",
        "bream_weight = []\n",
        "bream_length = []\n",
        "\n",
        "smelt_weight = []\n",
        "smelt_length = []\n",
        "\n",
        "for row in data:\n",
        "    if row[0] == \"Bream\":\n",
        "        bream_weight.append(float(row[1]))\n",
        "        bream_length.append(float(row[3]))\n",
        "    if row[0] == \"Smelt\":\n",
        "        smelt_weight.append(float(row[1]))\n",
        "        smelt_length.append(float(row[3]))\n",
        "\n",
        "f.close()"
      ]
    },
    {
      "cell_type": "code",
      "execution_count": null,
      "id": "537c76f1-c395-4165-bab5-c53b5c7157a5",
      "metadata": {
        "id": "537c76f1-c395-4165-bab5-c53b5c7157a5",
        "outputId": "6dd32cb9-5c71-487a-a76d-bc0b504d3472"
      },
      "outputs": [
        {
          "name": "stdout",
          "output_type": "stream",
          "text": [
            "도미의 무게: [242.0, 290.0, 340.0, 363.0, 430.0, 450.0, 500.0, 390.0, 450.0, 500.0, 475.0, 500.0, 500.0, 340.0, 600.0, 600.0, 700.0, 700.0, 610.0, 650.0, 575.0, 685.0, 620.0, 680.0, 700.0, 725.0, 720.0, 714.0, 850.0, 1000.0, 920.0, 955.0, 925.0, 975.0, 950.0]\n",
            "도미의 길이: [25.4, 26.3, 26.5, 29.0, 29.0, 29.7, 29.7, 30.0, 30.0, 30.7, 31.0, 31.0, 31.5, 32.0, 32.0, 32.0, 33.0, 33.0, 33.5, 33.5, 34.0, 34.0, 34.5, 35.0, 35.0, 35.0, 35.0, 36.0, 36.0, 37.0, 38.5, 38.5, 39.5, 41.0, 41.0]\n",
            "빙어의 무게: [6.7, 7.5, 7.0, 9.7, 9.8, 8.7, 10.0, 9.9, 9.8, 12.2, 13.4, 12.2, 19.7, 19.9]\n",
            "빙어의 길이: [9.8, 10.5, 10.6, 11.0, 11.2, 11.3, 11.8, 11.8, 12.0, 12.2, 12.4, 13.0, 14.3, 15.0]\n"
          ]
        }
      ],
      "source": [
        "print(\"도미의 무게:\", bream_weight)\n",
        "print(\"도미의 길이:\", bream_length)\n",
        "print(\"빙어의 무게:\", smelt_weight)\n",
        "print(\"빙어의 길이:\", smelt_length)"
      ]
    },
    {
      "cell_type": "code",
      "execution_count": null,
      "id": "99f1b842-6d5e-4999-8967-0792f9e6f37e",
      "metadata": {
        "id": "99f1b842-6d5e-4999-8967-0792f9e6f37e",
        "outputId": "2d29b216-37e2-465a-dbf1-c1b30c54bfcf"
      },
      "outputs": [
        {
          "data": {
            "image/png": "[encoded data removed]",
            "text/plain": [
              "<Figure size 432x288 with 1 Axes>"
            ]
          },
          "metadata": {
            "needs_background": "light"
          },
          "output_type": "display_data"
        }
      ],
      "source": [
        "import matplotlib.pyplot as plt\n",
        "\n",
        "plt.figure()\n",
        "plt.scatter(bream_length, bream_weight)\n",
        "plt.xlabel(\"Legnth[cm]\")\n",
        "plt.ylabel(\"Weight[g]\")\n",
        "plt.grid(True)\n",
        "plt.show()"
      ]
    },
    {
      "cell_type": "code",
      "execution_count": null,
      "id": "d87d1925-c264-42e7-8d58-aff05525a75a",
      "metadata": {
        "id": "d87d1925-c264-42e7-8d58-aff05525a75a",
        "outputId": "984bcc86-fe52-489f-f7aa-46116dfbed64"
      },
      "outputs": [
        {
          "data": {
            "image/png": "[encoded data removed]",
            "text/plain": [
              "<Figure size 432x288 with 1 Axes>"
            ]
          },
          "metadata": {
            "needs_background": "light"
          },
          "output_type": "display_data"
        }
      ],
      "source": [
        "plt.figure()\n",
        "plt.scatter(smelt_length, smelt_weight)\n",
        "plt.xlabel(\"Legnth[cm]\")\n",
        "plt.ylabel(\"Weight[g]\")\n",
        "plt.grid(True)\n",
        "plt.show()"
      ]
    },
    {
      "cell_type": "code",
      "execution_count": null,
      "id": "0e1200b7-c0be-4dcc-89b1-5ffe1f82d2fa",
      "metadata": {
        "id": "0e1200b7-c0be-4dcc-89b1-5ffe1f82d2fa",
        "outputId": "25e31f62-8840-465b-86f2-95fd21d2690f"
      },
      "outputs": [
        {
          "data": {
            "image/png": "[encoded data removed]",
            "text/plain": [
              "<Figure size 432x288 with 1 Axes>"
            ]
          },
          "metadata": {
            "needs_background": "light"
          },
          "output_type": "display_data"
        }
      ],
      "source": [
        "plt.figure()\n",
        "plt.scatter(bream_length, bream_weight, label=\"Bream\")\n",
        "plt.scatter(smelt_length, smelt_weight, label=\"Smelt\")\n",
        "plt.xlabel(\"Length[cm]\")\n",
        "plt.ylabel(\"Weight[g]\")\n",
        "plt.title(\"Fish Data\")\n",
        "plt.legend()\n",
        "plt.grid(True)\n",
        "plt.show()"
      ]
    },
    {
      "cell_type": "code",
      "execution_count": null,
      "id": "a8845cf7-7f87-4afd-ba69-8b3bd085b0e1",
      "metadata": {
        "id": "a8845cf7-7f87-4afd-ba69-8b3bd085b0e1",
        "outputId": "c5d489a3-21e3-494e-9b91-008cbd74e881"
      },
      "outputs": [
        {
          "name": "stdout",
          "output_type": "stream",
          "text": [
            "도미 마리 수: 35\n",
            "빙어 마리 수: 14\n",
            "생선 총 마리 수: 49\n",
            "[25.4, 26.3, 26.5, 29.0, 29.0, 29.7, 29.7, 30.0, 30.0, 30.7, 31.0, 31.0, 31.5, 32.0, 32.0, 32.0, 33.0, 33.0, 33.5, 33.5, 34.0, 34.0, 34.5, 35.0, 35.0, 35.0, 35.0, 36.0, 36.0, 37.0, 38.5, 38.5, 39.5, 41.0, 41.0, 9.8, 10.5, 10.6, 11.0, 11.2, 11.3, 11.8, 11.8, 12.0, 12.2, 12.4, 13.0, 14.3, 15.0]\n",
            "[242.0, 290.0, 340.0, 363.0, 430.0, 450.0, 500.0, 390.0, 450.0, 500.0, 475.0, 500.0, 500.0, 340.0, 600.0, 600.0, 700.0, 700.0, 610.0, 650.0, 575.0, 685.0, 620.0, 680.0, 700.0, 725.0, 720.0, 714.0, 850.0, 1000.0, 920.0, 955.0, 925.0, 975.0, 950.0, 6.7, 7.5, 7.0, 9.7, 9.8, 8.7, 10.0, 9.9, 9.8, 12.2, 13.4, 12.2, 19.7, 19.9]\n"
          ]
        }
      ],
      "source": [
        "print(\"도미 마리 수:\", len(bream_length))\n",
        "print(\"빙어 마리 수:\", len(smelt_length))\n",
        "\n",
        "length = bream_length + smelt_length\n",
        "weight = bream_weight + smelt_weight\n",
        "\n",
        "print('생선 총 마리 수:', len(length))\n",
        "print(length)\n",
        "print(weight)"
      ]
    },
    {
      "cell_type": "code",
      "execution_count": null,
      "id": "c89757ed-8922-4ed0-9161-aef57baa7782",
      "metadata": {
        "id": "c89757ed-8922-4ed0-9161-aef57baa7782",
        "outputId": "2feca58d-1002-4fe7-bfdc-200a3431f5fd"
      },
      "outputs": [
        {
          "name": "stdout",
          "output_type": "stream",
          "text": [
            "[[25.4, 242.0], [26.3, 290.0], [26.5, 340.0], [29.0, 363.0], [29.0, 430.0], [29.7, 450.0], [29.7, 500.0], [30.0, 390.0], [30.0, 450.0], [30.7, 500.0], [31.0, 475.0], [31.0, 500.0], [31.5, 500.0], [32.0, 340.0], [32.0, 600.0], [32.0, 600.0], [33.0, 700.0], [33.0, 700.0], [33.5, 610.0], [33.5, 650.0], [34.0, 575.0], [34.0, 685.0], [34.5, 620.0], [35.0, 680.0], [35.0, 700.0], [35.0, 725.0], [35.0, 720.0], [36.0, 714.0], [36.0, 850.0], [37.0, 1000.0], [38.5, 920.0], [38.5, 955.0], [39.5, 925.0], [41.0, 975.0], [41.0, 950.0], [9.8, 6.7], [10.5, 7.5], [10.6, 7.0], [11.0, 9.7], [11.2, 9.8], [11.3, 8.7], [11.8, 10.0], [11.8, 9.9], [12.0, 9.8], [12.2, 12.2], [12.4, 13.4], [13.0, 12.2], [14.3, 19.7], [15.0, 19.9]]\n"
          ]
        }
      ],
      "source": [
        "x = []\n",
        "for num in range(0,49,1):\n",
        "    x.append([length[num], weight[num]])\n",
        "\n",
        "print(x)"
      ]
    },
    {
      "cell_type": "code",
      "execution_count": null,
      "id": "620f8d1c-0127-4e9d-8fff-38cfe2cc20ac",
      "metadata": {
        "id": "620f8d1c-0127-4e9d-8fff-38cfe2cc20ac",
        "outputId": "bd6c46cb-9121-4f27-870c-d1227369a144"
      },
      "outputs": [
        {
          "name": "stdout",
          "output_type": "stream",
          "text": [
            "49\n",
            "[1, 1, 1, 1, 1, 1, 1, 1, 1, 1, 1, 1, 1, 1, 1, 1, 1, 1, 1, 1, 1, 1, 1, 1, 1, 1, 1, 1, 1, 1, 1, 1, 1, 1, 1, 0, 0, 0, 0, 0, 0, 0, 0, 0, 0, 0, 0, 0, 0]\n"
          ]
        }
      ],
      "source": [
        "y = [1] * 35 + [0] * 14\n",
        "\n",
        "print(len(y))\n",
        "print(y)"
      ]
    },
    {
      "cell_type": "code",
      "execution_count": null,
      "id": "77a2b83c-3ba9-4fd6-b7b2-43304b7846a9",
      "metadata": {
        "id": "77a2b83c-3ba9-4fd6-b7b2-43304b7846a9"
      },
      "outputs": [],
      "source": [
        "from sklearn.neighbors import KNeighborsClassifier\n",
        "kn = KNeighborsClassifier()"
      ]
    },
    {
      "cell_type": "code",
      "execution_count": null,
      "id": "8695a2d6-cdb0-4b92-9b63-e5a014f9962f",
      "metadata": {
        "id": "8695a2d6-cdb0-4b92-9b63-e5a014f9962f",
        "outputId": "32ff0ba6-3f67-40de-916d-1749b7b127e3"
      },
      "outputs": [
        {
          "data": {
            "text/plain": [
              "KNeighborsClassifier()"
            ]
          },
          "execution_count": 38,
          "metadata": {},
          "output_type": "execute_result"
        }
      ],
      "source": [
        "kn.fit(x,y)"
      ]
    },
    {
      "cell_type": "code",
      "execution_count": null,
      "id": "4d6f075a-0a96-40ed-a96a-8542ea8680c7",
      "metadata": {
        "id": "4d6f075a-0a96-40ed-a96a-8542ea8680c7",
        "outputId": "6a832e47-5e9f-4b00-b661-98301b1f63ff"
      },
      "outputs": [
        {
          "data": {
            "text/plain": [
              "1.0"
            ]
          },
          "execution_count": 39,
          "metadata": {},
          "output_type": "execute_result"
        }
      ],
      "source": [
        "kn.score(x,y)"
      ]
    },
    {
      "cell_type": "code",
      "execution_count": null,
      "id": "bac93408-027f-4287-ba09-06a60a855e24",
      "metadata": {
        "id": "bac93408-027f-4287-ba09-06a60a855e24",
        "outputId": "6979b6ea-a396-45a0-8c05-5e48954d3cda"
      },
      "outputs": [
        {
          "data": {
            "image/png": "[encoded data removed]",
            "text/plain": [
              "<Figure size 432x288 with 1 Axes>"
            ]
          },
          "metadata": {
            "needs_background": "light"
          },
          "output_type": "display_data"
        }
      ],
      "source": [
        "plt.figure()\n",
        "plt.scatter(bream_length, bream_weight, label=\"Bream\", marker='^', c='black')\n",
        "plt.scatter(smelt_length, smelt_weight, label=\"Smelt\", marker='d', c='blue')\n",
        "plt.scatter(30, 600, label=\"New Data\", marker='s', c='red')\n",
        "plt.xlabel(\"Length[cm]\")\n",
        "plt.ylabel(\"Weight[g]\")\n",
        "plt.title(\"Fish Data\")\n",
        "plt.legend()\n",
        "plt.grid(True)\n",
        "plt.show()"
      ]
    },
    {
      "cell_type": "code",
      "execution_count": null,
      "id": "c94d9763-7ff5-4d1e-a294-4b62ce699ab4",
      "metadata": {
        "id": "c94d9763-7ff5-4d1e-a294-4b62ce699ab4",
        "outputId": "5dc09b10-c85a-4bc4-dcec-e49d972094f0"
      },
      "outputs": [
        {
          "name": "stdout",
          "output_type": "stream",
          "text": [
            "[1]\n",
            "<class 'numpy.ndarray'>\n"
          ]
        }
      ],
      "source": [
        "y_pred = kn.predict([[30,600]])\n",
        "print(y_pred)\n",
        "print(type(y_pred))"
      ]
    },
    {
      "cell_type": "code",
      "execution_count": null,
      "id": "fd2ce165-935e-46a7-8908-611cf2e47b98",
      "metadata": {
        "id": "fd2ce165-935e-46a7-8908-611cf2e47b98",
        "outputId": "e111b5f8-05e5-4953-cfb0-4f951dc4ba9a"
      },
      "outputs": [
        {
          "name": "stdout",
          "output_type": "stream",
          "text": [
            "도미입니다.\n"
          ]
        }
      ],
      "source": [
        "y_pred = kn.predict([[30,600]])\n",
        "\n",
        "if y_pred == 1:\n",
        "    print('도미입니다.')\n",
        "elif y_pred == 0:\n",
        "    print('빙어입니다.')"
      ]
    },
    {
      "cell_type": "code",
      "execution_count": null,
      "id": "edc0da38-9064-4b38-b105-61223a7a9e67",
      "metadata": {
        "id": "edc0da38-9064-4b38-b105-61223a7a9e67",
        "outputId": "5a588098-350d-4b31-9117-01a2c0740e7a"
      },
      "outputs": [
        {
          "name": "stdout",
          "output_type": "stream",
          "text": [
            "[[  25.4  242. ]\n",
            " [  26.3  290. ]\n",
            " [  26.5  340. ]\n",
            " [  29.   363. ]\n",
            " [  29.   430. ]\n",
            " [  29.7  450. ]\n",
            " [  29.7  500. ]\n",
            " [  30.   390. ]\n",
            " [  30.   450. ]\n",
            " [  30.7  500. ]\n",
            " [  31.   475. ]\n",
            " [  31.   500. ]\n",
            " [  31.5  500. ]\n",
            " [  32.   340. ]\n",
            " [  32.   600. ]\n",
            " [  32.   600. ]\n",
            " [  33.   700. ]\n",
            " [  33.   700. ]\n",
            " [  33.5  610. ]\n",
            " [  33.5  650. ]\n",
            " [  34.   575. ]\n",
            " [  34.   685. ]\n",
            " [  34.5  620. ]\n",
            " [  35.   680. ]\n",
            " [  35.   700. ]\n",
            " [  35.   725. ]\n",
            " [  35.   720. ]\n",
            " [  36.   714. ]\n",
            " [  36.   850. ]\n",
            " [  37.  1000. ]\n",
            " [  38.5  920. ]\n",
            " [  38.5  955. ]\n",
            " [  39.5  925. ]\n",
            " [  41.   975. ]\n",
            " [  41.   950. ]\n",
            " [   9.8    6.7]\n",
            " [  10.5    7.5]\n",
            " [  10.6    7. ]\n",
            " [  11.     9.7]\n",
            " [  11.2    9.8]\n",
            " [  11.3    8.7]\n",
            " [  11.8   10. ]\n",
            " [  11.8    9.9]\n",
            " [  12.     9.8]\n",
            " [  12.2   12.2]\n",
            " [  12.4   13.4]\n",
            " [  13.    12.2]\n",
            " [  14.3   19.7]\n",
            " [  15.    19.9]]\n"
          ]
        }
      ],
      "source": [
        "print(kn._fit_X)"
      ]
    },
    {
      "cell_type": "code",
      "execution_count": null,
      "id": "83d91df3-f006-43a1-a3d9-893837d897f4",
      "metadata": {
        "id": "83d91df3-f006-43a1-a3d9-893837d897f4",
        "outputId": "e56e4df8-55c0-4407-e37a-488d3b5a6593"
      },
      "outputs": [
        {
          "name": "stdout",
          "output_type": "stream",
          "text": [
            "[1 1 1 1 1 1 1 1 1 1 1 1 1 1 1 1 1 1 1 1 1 1 1 1 1 1 1 1 1 1 1 1 1 1 1 0 0\n",
            " 0 0 0 0 0 0 0 0 0 0 0 0]\n"
          ]
        }
      ],
      "source": [
        "print(kn._y)"
      ]
    },
    {
      "cell_type": "code",
      "execution_count": null,
      "id": "58848007-3a83-4ff5-acb4-f4d50bcbfbf8",
      "metadata": {
        "id": "58848007-3a83-4ff5-acb4-f4d50bcbfbf8"
      },
      "outputs": [],
      "source": [
        "kn49 = KNeighborsClassifier(n_neighbors=49)"
      ]
    },
    {
      "cell_type": "code",
      "execution_count": null,
      "id": "fa2112cd-e42f-47f1-8d05-321a79f56d65",
      "metadata": {
        "id": "fa2112cd-e42f-47f1-8d05-321a79f56d65",
        "outputId": "663abea1-a1e2-4bae-a6e8-dc5644d0283a"
      },
      "outputs": [
        {
          "data": {
            "text/plain": [
              "0.7142857142857143"
            ]
          },
          "execution_count": 50,
          "metadata": {},
          "output_type": "execute_result"
        }
      ],
      "source": [
        "kn49.fit(x,y)\n",
        "kn49.score(x,y)"
      ]
    },
    {
      "cell_type": "code",
      "execution_count": null,
      "id": "9fb30a5b-4e94-44a5-af27-ad46f5beefcf",
      "metadata": {
        "id": "9fb30a5b-4e94-44a5-af27-ad46f5beefcf",
        "outputId": "9fad9d38-c9ca-4eda-9b8e-9d723cc28fef"
      },
      "outputs": [
        {
          "name": "stdout",
          "output_type": "stream",
          "text": [
            "0.7142857142857143\n"
          ]
        }
      ],
      "source": [
        "print(35/49)"
      ]
    },
    {
      "cell_type": "code",
      "execution_count": null,
      "id": "613d1dbe-83ba-45ab-a87a-46898073778c",
      "metadata": {
        "id": "613d1dbe-83ba-45ab-a87a-46898073778c",
        "outputId": "74810e7f-46f7-48d4-cdc5-b62a54cdc1ad"
      },
      "outputs": [
        {
          "name": "stdout",
          "output_type": "stream",
          "text": [
            "18 0.9795918367346939\n"
          ]
        }
      ],
      "source": [
        "kn = KNeighborsClassifier()\n",
        "kn.fit(x,y)\n",
        "\n",
        "for n in range(5,50):\n",
        "    kn.n_neighbors = n\n",
        "\n",
        "    score = kn.score(x,y)\n",
        "    if score < 1:\n",
        "        print(n,score)\n",
        "        break"
      ]
    },
    {
      "cell_type": "code",
      "execution_count": null,
      "id": "61660438-fec4-4d2a-895b-e7dfb9364f55",
      "metadata": {
        "id": "61660438-fec4-4d2a-895b-e7dfb9364f55"
      },
      "outputs": [],
      "source": []
    }
  ],
  "metadata": {
    "kernelspec": {
      "display_name": "Python 3",
      "language": "python",
      "name": "python3"
    },
    "language_info": {
      "codemirror_mode": {
        "name": "ipython",
        "version": 3
      },
      "file_extension": ".py",
      "mimetype": "text/x-python",
      "name": "python",
      "nbconvert_exporter": "python",
      "pygments_lexer": "ipython3",
      "version": "3.8.8"
    },
    "colab": {
      "provenance": []
    }
  },
  "nbformat": 4,
  "nbformat_minor": 5
}