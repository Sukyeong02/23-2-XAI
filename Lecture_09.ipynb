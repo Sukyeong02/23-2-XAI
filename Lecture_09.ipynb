{
  "cells": [
    {
      "cell_type": "markdown",
      "metadata": {
        "id": "view-in-github",
        "colab_type": "text"
      },
      "source": [
        "<a href=\"https://colab.research.google.com/github/Sukyeong02/23-2-XAI/blob/main/Lecture_09.ipynb\" target=\"_parent\"><img src=\"https://colab.research.google.com/assets/colab-badge.svg\" alt=\"Open In Colab\"/></a>"
      ]
    },
    {
      "cell_type": "code",
      "execution_count": null,
      "id": "41edb5e3-040f-400e-8b6d-615a0884831e",
      "metadata": {
        "id": "41edb5e3-040f-400e-8b6d-615a0884831e",
        "outputId": "faadc984-6b80-428c-d9e6-b060caf636f7"
      },
      "outputs": [
        {
          "name": "stdout",
          "output_type": "stream",
          "text": [
            "fish_weight = [242.0, 290.0, 340.0, 363.0, 430.0, 450.0, 500.0, 390.0, 450.0, 500.0, 475.0, 500.0, 500.0, 340.0, 600.0, 600.0, 700.0, 700.0, 610.0, 650.0, 575.0, 685.0, 620.0, 680.0, 700.0, 725.0, 720.0, 714.0, 850.0, 1000.0, 920.0, 955.0, 925.0, 975.0, 950.0, 6.7, 7.5, 7.0, 9.7, 9.8, 8.7, 10.0, 9.9, 9.8, 12.2, 13.4, 12.2, 19.7, 19.9]\n",
            "fish_length = [25.4, 26.3, 26.5, 29.0, 29.0, 29.7, 29.7, 30.0, 30.0, 30.7, 31.0, 31.0, 31.5, 32.0, 32.0, 32.0, 33.0, 33.0, 33.5, 33.5, 34.0, 34.0, 34.5, 35.0, 35.0, 35.0, 35.0, 36.0, 36.0, 37.0, 38.5, 38.5, 39.5, 41.0, 41.0, 9.8, 10.5, 10.6, 11.0, 11.2, 11.3, 11.8, 11.8, 12.0, 12.2, 12.4, 13.0, 14.3, 15.0]\n"
          ]
        }
      ],
      "source": [
        "import csv\n",
        "\n",
        "f = open('fish.csv', 'r')\n",
        "data = csv.reader(f)\n",
        "\n",
        "header = next(data)\n",
        "\n",
        "bream_weight = []\n",
        "bream_length = []\n",
        "\n",
        "smelt_weight = []\n",
        "smelt_length = []\n",
        "\n",
        "for row in data:\n",
        "    if row[0] == 'Bream':\n",
        "        bream_weight.append(float(row[1]))\n",
        "        bream_length.append(float(row[3]))\n",
        "    elif row[0] == 'Smelt':\n",
        "        smelt_weight.append(float(row[1]))\n",
        "        smelt_length.append(float(row[3]))\n",
        "\n",
        "f.close()\n",
        "\n",
        "fish_weight = bream_weight + smelt_weight\n",
        "fish_length = bream_length + smelt_length\n",
        "\n",
        "print('fish_weight =', fish_weight)\n",
        "print('fish_length =', fish_length)"
      ]
    },
    {
      "cell_type": "code",
      "execution_count": null,
      "id": "c096b7c4-0c81-41ca-a42b-88edf9bdebf1",
      "metadata": {
        "id": "c096b7c4-0c81-41ca-a42b-88edf9bdebf1",
        "outputId": "28354ec5-7c82-422b-fdbe-9a82808dae43"
      },
      "outputs": [
        {
          "name": "stdout",
          "output_type": "stream",
          "text": [
            "x = [[25.4, 242.0], [26.3, 290.0], [26.5, 340.0], [29.0, 363.0], [29.0, 430.0], [29.7, 450.0], [29.7, 500.0], [30.0, 390.0], [30.0, 450.0], [30.7, 500.0], [31.0, 475.0], [31.0, 500.0], [31.5, 500.0], [32.0, 340.0], [32.0, 600.0], [32.0, 600.0], [33.0, 700.0], [33.0, 700.0], [33.5, 610.0], [33.5, 650.0], [34.0, 575.0], [34.0, 685.0], [34.5, 620.0], [35.0, 680.0], [35.0, 700.0], [35.0, 725.0], [35.0, 720.0], [36.0, 714.0], [36.0, 850.0], [37.0, 1000.0], [38.5, 920.0], [38.5, 955.0], [39.5, 925.0], [41.0, 975.0], [41.0, 950.0], [9.8, 6.7], [10.5, 7.5], [10.6, 7.0], [11.0, 9.7], [11.2, 9.8], [11.3, 8.7], [11.8, 10.0], [11.8, 9.9], [12.0, 9.8], [12.2, 12.2], [12.4, 13.4], [13.0, 12.2], [14.3, 19.7], [15.0, 19.9]]\n",
            "y = [1, 1, 1, 1, 1, 1, 1, 1, 1, 1, 1, 1, 1, 1, 1, 1, 1, 1, 1, 1, 1, 1, 1, 1, 1, 1, 1, 1, 1, 1, 1, 1, 1, 1, 1, 0, 0, 0, 0, 0, 0, 0, 0, 0, 0, 0, 0, 0, 0]\n"
          ]
        }
      ],
      "source": [
        "x = [[l,w] for l,w in zip(fish_length, fish_weight)]\n",
        "y = [1] * 35 + [0] * 14\n",
        "\n",
        "print('x =',x)\n",
        "print('y =', y)"
      ]
    },
    {
      "cell_type": "code",
      "execution_count": null,
      "id": "3a1bd97e-6b6f-4bfe-9b6c-4b66a66e7dd3",
      "metadata": {
        "id": "3a1bd97e-6b6f-4bfe-9b6c-4b66a66e7dd3"
      },
      "outputs": [],
      "source": [
        "x_train = x[0:35]\n",
        "y_train = y[0:35]\n",
        "\n",
        "x_test = x[35:]\n",
        "y_test = y[35:]"
      ]
    },
    {
      "cell_type": "code",
      "execution_count": null,
      "id": "d3b4744f-f33e-40d9-a946-1da00ee916cb",
      "metadata": {
        "id": "d3b4744f-f33e-40d9-a946-1da00ee916cb"
      },
      "outputs": [],
      "source": [
        "from sklearn.neighbors import KNeighborsClassifier\n",
        "kn = KNeighborsClassifier()"
      ]
    },
    {
      "cell_type": "code",
      "execution_count": null,
      "id": "bd6e39dd-1708-41b1-be41-dbd2fc06023c",
      "metadata": {
        "id": "bd6e39dd-1708-41b1-be41-dbd2fc06023c",
        "outputId": "64870313-f900-4f54-d720-ec0d1a8d2cfb"
      },
      "outputs": [
        {
          "name": "stdout",
          "output_type": "stream",
          "text": [
            "x_arr = [[  25.4  242. ]\n",
            " [  26.3  290. ]\n",
            " [  26.5  340. ]\n",
            " [  29.   363. ]\n",
            " [  29.   430. ]\n",
            " [  29.7  450. ]\n",
            " [  29.7  500. ]\n",
            " [  30.   390. ]\n",
            " [  30.   450. ]\n",
            " [  30.7  500. ]\n",
            " [  31.   475. ]\n",
            " [  31.   500. ]\n",
            " [  31.5  500. ]\n",
            " [  32.   340. ]\n",
            " [  32.   600. ]\n",
            " [  32.   600. ]\n",
            " [  33.   700. ]\n",
            " [  33.   700. ]\n",
            " [  33.5  610. ]\n",
            " [  33.5  650. ]\n",
            " [  34.   575. ]\n",
            " [  34.   685. ]\n",
            " [  34.5  620. ]\n",
            " [  35.   680. ]\n",
            " [  35.   700. ]\n",
            " [  35.   725. ]\n",
            " [  35.   720. ]\n",
            " [  36.   714. ]\n",
            " [  36.   850. ]\n",
            " [  37.  1000. ]\n",
            " [  38.5  920. ]\n",
            " [  38.5  955. ]\n",
            " [  39.5  925. ]\n",
            " [  41.   975. ]\n",
            " [  41.   950. ]\n",
            " [   9.8    6.7]\n",
            " [  10.5    7.5]\n",
            " [  10.6    7. ]\n",
            " [  11.     9.7]\n",
            " [  11.2    9.8]\n",
            " [  11.3    8.7]\n",
            " [  11.8   10. ]\n",
            " [  11.8    9.9]\n",
            " [  12.     9.8]\n",
            " [  12.2   12.2]\n",
            " [  12.4   13.4]\n",
            " [  13.    12.2]\n",
            " [  14.3   19.7]\n",
            " [  15.    19.9]]\n",
            "y_arr = [1 1 1 1 1 1 1 1 1 1 1 1 1 1 1 1 1 1 1 1 1 1 1 1 1 1 1 1 1 1 1 1 1 1 1 0 0\n",
            " 0 0 0 0 0 0 0 0 0 0 0 0]\n"
          ]
        }
      ],
      "source": [
        "import numpy as np\n",
        "\n",
        "x_arr = np.array(x)\n",
        "y_arr = np.array(y)\n",
        "\n",
        "print('x_arr =', x_arr)\n",
        "print('y_arr =', y_arr)"
      ]
    },
    {
      "cell_type": "code",
      "execution_count": null,
      "id": "2ad9291b-ea15-41e0-a63b-08a39e53c662",
      "metadata": {
        "id": "2ad9291b-ea15-41e0-a63b-08a39e53c662",
        "outputId": "3a4b68c2-e2d5-4c4a-db3d-a7169c5d81d1"
      },
      "outputs": [
        {
          "name": "stdout",
          "output_type": "stream",
          "text": [
            "(49, 2)\n",
            "(49,)\n"
          ]
        }
      ],
      "source": [
        "print(x_arr.shape)\n",
        "print(y_arr.shape)"
      ]
    },
    {
      "cell_type": "code",
      "execution_count": null,
      "id": "d2850a8b-8b42-435a-8422-173afb093734",
      "metadata": {
        "id": "d2850a8b-8b42-435a-8422-173afb093734",
        "outputId": "09248b47-9bf7-4f24-e113-eb3c46d43400"
      },
      "outputs": [
        {
          "name": "stdout",
          "output_type": "stream",
          "text": [
            "섞기 전 : [ 0  1  2  3  4  5  6  7  8  9 10 11 12 13 14 15 16 17 18 19 20 21 22 23\n",
            " 24 25 26 27 28 29 30 31 32 33 34 35 36 37 38 39 40 41 42 43 44 45 46 47\n",
            " 48]\n",
            "섞은 후 : [13 45 47 44 17 27 26 25 31 19 12  4 34  8  3  6 40 41 46 15  9 16 24 33\n",
            " 30  0 43 32  5 29 11 36  1 21  2 37 35 23 39 10 22 18 48 20  7 42 14 28\n",
            " 38]\n"
          ]
        }
      ],
      "source": [
        "np.random.seed(42)\n",
        "index = np.arange(49)\n",
        "print('섞기 전 :', index)\n",
        "\n",
        "np.random.shuffle(index)\n",
        "print('섞은 후 :', index)"
      ]
    },
    {
      "cell_type": "code",
      "execution_count": null,
      "id": "93685e39-c9e9-4110-b35b-25b0ce574217",
      "metadata": {
        "id": "93685e39-c9e9-4110-b35b-25b0ce574217",
        "outputId": "d6835181-d0b0-4994-ff73-dabf236d7133"
      },
      "outputs": [
        {
          "name": "stdout",
          "output_type": "stream",
          "text": [
            "[ 32. 340.]\n",
            "[ 32. 340.]\n"
          ]
        }
      ],
      "source": [
        "x_train = x_arr[index[:35]]\n",
        "y_train = y_arr[index[:35]]\n",
        "\n",
        "print(x_arr[13])\n",
        "print(x_train[0])"
      ]
    },
    {
      "cell_type": "code",
      "execution_count": null,
      "id": "49f5afba-9037-4379-b693-0806fb0e123a",
      "metadata": {
        "id": "49f5afba-9037-4379-b693-0806fb0e123a"
      },
      "outputs": [],
      "source": [
        "x_test = x_arr[index[35:]]\n",
        "y_test = y_arr[index[35:]]"
      ]
    },
    {
      "cell_type": "code",
      "execution_count": null,
      "id": "8d1fb6ec-554e-4da4-9d76-523f76a92ba3",
      "metadata": {
        "id": "8d1fb6ec-554e-4da4-9d76-523f76a92ba3",
        "outputId": "b4dd91a0-cb7a-46b4-db28-77014ad9087b"
      },
      "outputs": [
        {
          "data": {
            "image/png": "[encoded data removed]",
            "text/plain": [
              "<Figure size 432x288 with 1 Axes>"
            ]
          },
          "metadata": {
            "needs_background": "light"
          },
          "output_type": "display_data"
        }
      ],
      "source": [
        "import matplotlib.pyplot as plt\n",
        "\n",
        "plt.figure()\n",
        "plt.scatter(x_train[:,0], x_train[:,1], label='Training Dataset')\n",
        "plt.scatter(x_test[:,0], x_test[:,1], label='Test Dataset')\n",
        "plt.xlabel('Length[cm]')\n",
        "plt.ylabel('Weight[g]')\n",
        "plt.legend()\n",
        "plt.grid(True)\n",
        "plt.show()"
      ]
    },
    {
      "cell_type": "code",
      "execution_count": null,
      "id": "dc194a12-ae24-4dc2-9177-9273d24a4fd3",
      "metadata": {
        "id": "dc194a12-ae24-4dc2-9177-9273d24a4fd3"
      },
      "outputs": [],
      "source": [
        "kn = kn.fit(x_train, y_train)"
      ]
    },
    {
      "cell_type": "code",
      "execution_count": null,
      "id": "9d1a89bd-e1ab-4a80-8a9c-a9c519af713d",
      "metadata": {
        "id": "9d1a89bd-e1ab-4a80-8a9c-a9c519af713d",
        "outputId": "df3ae36f-aaa1-4d8b-a444-d8f91bbc2c26"
      },
      "outputs": [
        {
          "data": {
            "text/plain": [
              "1.0"
            ]
          },
          "execution_count": 15,
          "metadata": {},
          "output_type": "execute_result"
        }
      ],
      "source": [
        "kn.score(x_test, y_test)"
      ]
    },
    {
      "cell_type": "code",
      "execution_count": null,
      "id": "45076e08-2366-4e48-8f60-d8dab6d86def",
      "metadata": {
        "id": "45076e08-2366-4e48-8f60-d8dab6d86def",
        "outputId": "476e7e53-c7f2-4021-ebaf-ae47ecd5fde0"
      },
      "outputs": [
        {
          "data": {
            "text/plain": [
              "array([0, 0, 1, 0, 1, 1, 1, 0, 1, 1, 0, 1, 1, 0])"
            ]
          },
          "execution_count": 16,
          "metadata": {},
          "output_type": "execute_result"
        }
      ],
      "source": [
        "kn.predict(x_test)"
      ]
    },
    {
      "cell_type": "code",
      "execution_count": null,
      "id": "4600079d-4ab9-4821-9721-3cfef64bb5aa",
      "metadata": {
        "id": "4600079d-4ab9-4821-9721-3cfef64bb5aa",
        "outputId": "a2262ad2-1bf4-44e1-8588-6c40e5c8dc18"
      },
      "outputs": [
        {
          "data": {
            "text/plain": [
              "array([0, 0, 1, 0, 1, 1, 1, 0, 1, 1, 0, 1, 1, 0])"
            ]
          },
          "execution_count": 17,
          "metadata": {},
          "output_type": "execute_result"
        }
      ],
      "source": [
        "y_test"
      ]
    },
    {
      "cell_type": "code",
      "execution_count": null,
      "id": "924a763f-b131-4543-9fa3-4a53b9c42528",
      "metadata": {
        "id": "924a763f-b131-4543-9fa3-4a53b9c42528"
      },
      "outputs": [],
      "source": []
    }
  ],
  "metadata": {
    "kernelspec": {
      "display_name": "Python 3",
      "language": "python",
      "name": "python3"
    },
    "language_info": {
      "codemirror_mode": {
        "name": "ipython",
        "version": 3
      },
      "file_extension": ".py",
      "mimetype": "text/x-python",
      "name": "python",
      "nbconvert_exporter": "python",
      "pygments_lexer": "ipython3",
      "version": "3.8.8"
    },
    "colab": {
      "provenance": [],
      "include_colab_link": true
    }
  },
  "nbformat": 4,
  "nbformat_minor": 5
}