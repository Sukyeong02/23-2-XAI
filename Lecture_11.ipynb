{
  "cells": [
    {
      "cell_type": "markdown",
      "metadata": {
        "id": "view-in-github",
        "colab_type": "text"
      },
      "source": [
        "<a href=\"https://colab.research.google.com/github/Sukyeong02/23-2-XAI/blob/main/Lecture_11.ipynb\" target=\"_parent\"><img src=\"https://colab.research.google.com/assets/colab-badge.svg\" alt=\"Open In Colab\"/></a>"
      ]
    },
    {
      "cell_type": "code",
      "execution_count": null,
      "id": "bee4f38e-4b85-453e-beb1-f7b24c77742d",
      "metadata": {
        "id": "bee4f38e-4b85-453e-beb1-f7b24c77742d",
        "outputId": "24832178-6c3d-4a93-ec10-cc67860f6b2f"
      },
      "outputs": [
        {
          "name": "stdout",
          "output_type": "stream",
          "text": [
            "weight = [5.9, 32.0, 40.0, 51.5, 70.0, 100.0, 78.0, 80.0, 85.0, 85.0, 110.0, 115.0, 125.0, 130.0, 120.0, 120.0, 130.0, 135.0, 110.0, 130.0, 150.0, 145.0, 150.0, 170.0, 225.0, 145.0, 188.0, 180.0, 197.0, 218.0, 300.0, 260.0, 265.0, 250.0, 250.0, 300.0, 320.0, 514.0, 556.0, 840.0, 685.0, 700.0, 700.0, 690.0, 900.0, 650.0, 820.0, 850.0, 900.0, 1015.0, 820.0, 1100.0, 1000.0, 1100.0, 1000.0, 1000.0]\n",
            "length = [8.4, 13.7, 15.0, 16.2, 17.4, 18.0, 18.7, 19.0, 19.6, 20.0, 21.0, 21.0, 21.0, 21.3, 22.0, 22.0, 22.0, 22.0, 22.0, 22.5, 22.5, 22.7, 23.0, 23.5, 24.0, 24.0, 24.6, 25.0, 25.6, 26.5, 27.3, 27.5, 27.5, 27.5, 28.0, 28.7, 30.0, 32.8, 34.5, 35.0, 36.5, 36.0, 37.0, 37.0, 39.0, 39.0, 39.0, 40.0, 40.0, 40.0, 40.0, 42.0, 43.0, 43.0, 43.5, 44.0]\n"
          ]
        }
      ],
      "source": [
        "import csv\n",
        "\n",
        "f = open('Fish.csv', 'r')\n",
        "data = csv.reader(f)\n",
        "\n",
        "header = next(data)\n",
        "\n",
        "perch_weight = []\n",
        "perch_length = []\n",
        "\n",
        "for row in data:\n",
        "    if row[0] == \"Perch\":\n",
        "        perch_weight.append(float(row[1]))\n",
        "        perch_length.append(float(row[3]))\n",
        "\n",
        "f.close()\n",
        "\n",
        "print('weight =', perch_weight)\n",
        "print('length =', perch_length)"
      ]
    },
    {
      "cell_type": "code",
      "execution_count": null,
      "id": "a1ba2550-de1b-4908-a9a4-6bd869450d48",
      "metadata": {
        "id": "a1ba2550-de1b-4908-a9a4-6bd869450d48"
      },
      "outputs": [],
      "source": [
        "import numpy as np\n",
        "\n",
        "y = np.array(perch_weight)\n",
        "x = np.array(perch_length)"
      ]
    },
    {
      "cell_type": "code",
      "execution_count": null,
      "id": "29732908-3a1f-4de2-8ff6-1e75d95e457b",
      "metadata": {
        "id": "29732908-3a1f-4de2-8ff6-1e75d95e457b",
        "outputId": "86880da8-41f1-4328-ab84-72b673cd3fca"
      },
      "outputs": [
        {
          "data": {
            "image/png": "[encoded data removed]",
            "text/plain": [
              "<Figure size 432x288 with 1 Axes>"
            ]
          },
          "metadata": {
            "needs_background": "light"
          },
          "output_type": "display_data"
        }
      ],
      "source": [
        "import matplotlib.pyplot as plt\n",
        "\n",
        "plt.figure()\n",
        "plt.scatter(x,y)\n",
        "plt.xlabel('Length[cm]')\n",
        "plt.ylabel('Weight[g]')\n",
        "plt.grid(True)\n",
        "plt.show()"
      ]
    },
    {
      "cell_type": "code",
      "execution_count": null,
      "id": "22a029ba-2c16-4bc9-b0a8-f9ab8c56ba5c",
      "metadata": {
        "id": "22a029ba-2c16-4bc9-b0a8-f9ab8c56ba5c"
      },
      "outputs": [],
      "source": [
        "from sklearn.model_selection import train_test_split\n",
        "\n",
        "x_train, x_test, y_train, y_test = train_test_split(x, y, random_state=42)"
      ]
    },
    {
      "cell_type": "code",
      "execution_count": null,
      "id": "0f8cd4b2-432a-4773-b863-d7717ddc8840",
      "metadata": {
        "id": "0f8cd4b2-432a-4773-b863-d7717ddc8840",
        "outputId": "eae1c7fb-1db4-43ec-d300-d0bd6e2b0a1f"
      },
      "outputs": [
        {
          "name": "stdout",
          "output_type": "stream",
          "text": [
            "(42,)\n",
            "(14,)\n"
          ]
        }
      ],
      "source": [
        "print(x_train.shape)\n",
        "print(x_test.shape)"
      ]
    },
    {
      "cell_type": "code",
      "execution_count": null,
      "id": "4e2c6f42-ae01-4a13-930b-ee2841e6e35f",
      "metadata": {
        "id": "4e2c6f42-ae01-4a13-930b-ee2841e6e35f",
        "outputId": "4b684ddc-556d-4a12-8bd1-aed004a19906"
      },
      "outputs": [
        {
          "name": "stdout",
          "output_type": "stream",
          "text": [
            "(42, 1) (14, 1)\n"
          ]
        }
      ],
      "source": [
        "x_train = x_train.reshape(42,1)\n",
        "x_test = x_test.reshape(14,1)\n",
        "\n",
        "print(x_train.shape, x_test.shape)"
      ]
    },
    {
      "cell_type": "code",
      "execution_count": null,
      "id": "89632b4f-af93-4b7f-95e8-5fec968e25aa",
      "metadata": {
        "id": "89632b4f-af93-4b7f-95e8-5fec968e25aa",
        "outputId": "f8a2d9fa-726c-48f1-f0db-966d960e6dff"
      },
      "outputs": [
        {
          "data": {
            "text/plain": [
              "KNeighborsRegressor()"
            ]
          },
          "execution_count": 12,
          "metadata": {},
          "output_type": "execute_result"
        }
      ],
      "source": [
        "from sklearn.neighbors import KNeighborsRegressor\n",
        "\n",
        "knr = KNeighborsRegressor()\n",
        "\n",
        "knr.fit(x_train, y_train)"
      ]
    },
    {
      "cell_type": "code",
      "execution_count": null,
      "id": "c8aaca63-bad3-488d-a10a-08619a93631a",
      "metadata": {
        "id": "c8aaca63-bad3-488d-a10a-08619a93631a",
        "outputId": "20575ff2-53eb-42c4-945f-60e6f489c746"
      },
      "outputs": [
        {
          "data": {
            "text/plain": [
              "0.992809406101064"
            ]
          },
          "execution_count": 13,
          "metadata": {},
          "output_type": "execute_result"
        }
      ],
      "source": [
        "knr.score(x_test, y_test)"
      ]
    },
    {
      "cell_type": "code",
      "execution_count": null,
      "id": "e3727ebd-46d3-4bf5-86bb-60c74d40eff7",
      "metadata": {
        "id": "e3727ebd-46d3-4bf5-86bb-60c74d40eff7",
        "outputId": "61c3eada-c6e9-4c10-a1f4-e82ee54d5b2e"
      },
      "outputs": [
        {
          "name": "stdout",
          "output_type": "stream",
          "text": [
            "19.157142857142862\n"
          ]
        }
      ],
      "source": [
        "from sklearn.metrics import mean_absolute_error\n",
        "\n",
        "y_pred = knr.predict(x_test)\n",
        "\n",
        "mae = mean_absolute_error(y_test, y_pred)\n",
        "print(mae)"
      ]
    },
    {
      "cell_type": "code",
      "execution_count": null,
      "id": "7abc9456-cc34-44a4-9f8d-85d8be1cedf1",
      "metadata": {
        "id": "7abc9456-cc34-44a4-9f8d-85d8be1cedf1",
        "outputId": "468d2c3c-c722-44b8-df74-0fda75a4514e"
      },
      "outputs": [
        {
          "name": "stdout",
          "output_type": "stream",
          "text": [
            "시험 데이터셋에서의 결정계수: 0.992809406101064\n",
            "학습 데이터셋에서의 결정계수: 0.9698823289099254\n"
          ]
        }
      ],
      "source": [
        "print('시험 데이터셋에서의 결정계수:', knr.score(x_test, y_test))\n",
        "print('학습 데이터셋에서의 결정계수:', knr.score(x_train, y_train))"
      ]
    },
    {
      "cell_type": "markdown",
      "id": "adb85315-d77b-487d-b1ab-7875ed525de4",
      "metadata": {
        "id": "adb85315-d77b-487d-b1ab-7875ed525de4"
      },
      "source": [
        "## 과소적합 발생 -> 모델을 더 복잡하게 만들자\n",
        "- 이웃의 개수 k를 조금 줄인다."
      ]
    },
    {
      "cell_type": "code",
      "execution_count": null,
      "id": "8e925db0-4dc1-44a2-bf73-3d496dd34162",
      "metadata": {
        "id": "8e925db0-4dc1-44a2-bf73-3d496dd34162",
        "outputId": "c7ffd300-b1c7-48b0-ddd1-578f9981851c"
      },
      "outputs": [
        {
          "name": "stdout",
          "output_type": "stream",
          "text": [
            "시험 데이터셋에서의 결정계수: 0.9746459963987609\n",
            "학습 데이터셋에서의 결정계수: 0.9804899950518966\n"
          ]
        }
      ],
      "source": [
        "knr.n_neighbors = 3\n",
        "knr.fit(x_train, y_train)\n",
        "print('시험 데이터셋에서의 결정계수:', knr.score(x_test, y_test))\n",
        "print('학습 데이터셋에서의 결정계수:', knr.score(x_train, y_train))"
      ]
    },
    {
      "cell_type": "code",
      "execution_count": null,
      "id": "27b67e04-1530-4f70-bfe0-48c3dd2e28e6",
      "metadata": {
        "id": "27b67e04-1530-4f70-bfe0-48c3dd2e28e6"
      },
      "outputs": [],
      "source": []
    }
  ],
  "metadata": {
    "kernelspec": {
      "display_name": "Python 3",
      "language": "python",
      "name": "python3"
    },
    "language_info": {
      "codemirror_mode": {
        "name": "ipython",
        "version": 3
      },
      "file_extension": ".py",
      "mimetype": "text/x-python",
      "name": "python",
      "nbconvert_exporter": "python",
      "pygments_lexer": "ipython3",
      "version": "3.8.8"
    },
    "colab": {
      "provenance": [],
      "include_colab_link": true
    }
  },
  "nbformat": 4,
  "nbformat_minor": 5
}